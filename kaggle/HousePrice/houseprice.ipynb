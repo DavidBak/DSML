{
 "cells": [
  {
   "cell_type": "code",
   "execution_count": 140,
   "metadata": {},
   "outputs": [],
   "source": [
    "# https://www.kaggle.com/competitions/house-prices-advanced-regression-techniques/leaderboard"
   ]
  },
  {
   "cell_type": "markdown",
   "metadata": {},
   "source": [
    "### House Prices - Advanced Regression Techniques\n",
    "#### Predict sales prices and practice feature engineering, RFs, and gradient boosting"
   ]
  },
  {
   "cell_type": "markdown",
   "metadata": {},
   "source": [
    "Start here if...\n",
    "You have some experience with R or Python and machine learning basics. This is a perfect competition for data science students who have completed an online course in machine learning and are looking to expand their skill set before trying a featured competition. \n",
    "\n",
    "Competition Description\n",
    "\n",
    "\n",
    "Ask a home buyer to describe their dream house, and they probably won't begin with the height of the basement ceiling or the proximity to an east-west railroad. But this playground competition's dataset proves that much more influences price negotiations than the number of bedrooms or a white-picket fence.\n",
    "\n",
    "With 79 explanatory variables describing (almost) every aspect of residential homes in Ames, Iowa, this competition challenges you to predict the final price of each home.\n",
    "\n",
    "Practice Skills\n",
    "Creative feature engineering \n",
    "Advanced regression techniques like random forest and gradient boosting\n",
    "Acknowledgments\n",
    "The Ames Housing dataset was compiled by Dean De Cock for use in data science education. It's an incredible alternative for data scientists looking for a modernized and expanded version of the often cited Boston Housing dataset. \n",
    "\n",
    "Photo by Tom Thain on Unsplash."
   ]
  },
  {
   "cell_type": "markdown",
   "metadata": {},
   "source": [
    "Data fields\n",
    "Here's a brief version of what you'll find in the data description file.\n",
    "\n",
    "* SalePrice - the property's sale price in dollars. This is the target variable that you're trying to predict.  / int64\n",
    "* MSSubClass: The building class                                            / int64\n",
    "* MSZoning: The general zoning classification                               / object\n",
    "* LotFrontage: Linear feet of street connected to property                  / float64\n",
    "* LotArea: Lot size in square feet                                          / int64\n",
    "* Street: Type of road access                                               / object\n",
    "* Alley: Type of alley access                                               / object\n",
    "* LotShape: General shape of property                                       / object\n",
    "* LandContour: Flatness of the property                                     / object\n",
    "* Utilities: Type of utilities available                                    / object\n",
    "* LotConfig: Lot configuration                                              / object\n",
    "* LandSlope: Slope of property                                              / object\n",
    "* Neighborhood: Physical locations within Ames city limits                  / object\n",
    "* Condition1: Proximity to main road or railroad                            / object\n",
    "* Condition2: Proximity to main road or railroad (if a second is present)   / object\n",
    "* BldgType: Type of dwelling                                                / object\n",
    "* HouseStyle: Style of dwelling                                             / object\n",
    "* OverallQual: Overall material and finish quality                          / int64\n",
    "* OverallCond: Overall condition rating                                     / int64\n",
    "* YearBuilt: Original construction date                                     / int64\n",
    "* YearRemodAdd: Remodel date                                                / int64\n",
    "* RoofStyle: Type of roof                                                   / object\n",
    "* RoofMatl: Roof material                                                   / object\n",
    "* Exterior1st: Exterior covering on house                                   / object\n",
    "* Exterior2nd: Exterior covering on house (if more than one material)       / object\n",
    "* MasVnrType: Masonry veneer type                                           / object\n",
    "* MasVnrArea: Masonry veneer area in square feet                            / float64\n",
    "* ExterQual: Exterior material quality                                      / object\n",
    "* ExterCond: Present condition of the material on the exterior              / object\n",
    "* Foundation: Type of foundation                                            / object\n",
    "* BsmtQual: Height of the basement                                          / object\n",
    "* BsmtCond: General condition of the basement                               / object\n",
    "* BsmtExposure: Walkout or garden level basement walls                      / object\n",
    "* BsmtFinType1: Quality of basement finished area                           / object\n",
    "* BsmtFinSF1: Type 1 finished square feet                                   / int64\n",
    "* BsmtFinType2: Quality of second finished area (if present)                / object\n",
    "* BsmtFinSF2: Type 2 finished square feet                                   / int64\n",
    "* BsmtUnfSF: Unfinished square feet of basement area                        / int64\n",
    "* TotalBsmtSF: Total square feet of basement area                           / int64\n",
    "* Heating: Type of heating                                                  / object\n",
    "* HeatingQC: Heating quality and condition                                  / object\n",
    "* CentralAir: Central air conditioning                                      / object\n",
    "* Electrical: Electrical system                                             / object\n",
    "* 1stFlrSF: First Floor square feet                                         / int64\n",
    "* 2ndFlrSF: Second floor square feet                                        / int64\n",
    "* LowQualFinSF: Low quality finished square feet (all floors)               / int64\n",
    "* GrLivArea: Above grade (ground) living area square feet                   / int64\n",
    "* BsmtFullBath: Basement full bathrooms                                     / int64\n",
    "* BsmtHalfBath: Basement half bathrooms                                     / int64\n",
    "* FullBath: Full bathrooms above grade                                      / int64\n",
    "* HalfBath: Half baths above grade                                          / int64\n",
    "* Bedroom: Number of bedrooms above basement level                          / int64\n",
    "* Kitchen: Number of kitchens                                               / int64\n",
    "* KitchenQual: Kitchen quality                                              / object\n",
    "* TotRmsAbvGrd: Total rooms above grade (does not include bathrooms)        / int64\n",
    "* Functional: Home functionality rating                                     / object\n",
    "* Fireplaces: Number of fireplaces                                          / int64\n",
    "* FireplaceQu: Fireplace quality                                            / object\n",
    "* GarageType: Garage location                                               / object\n",
    "* GarageYrBlt: Year garage was built                                        / float64\n",
    "* GarageFinish: Interior finish of the garage                               / object\n",
    "* GarageCars: Size of garage in car capacity                                / int64\n",
    "* GarageArea: Size of garage in square feet                                 / int64\n",
    "* GarageQual: Garage quality                                                / object\n",
    "* GarageCond: Garage condition                                              / object\n",
    "* PavedDrive: Paved driveway                                                / object\n",
    "* WoodDeckSF: Wood deck area in square feet                                 / int64\n",
    "* OpenPorchSF: Open porch area in square feet                               / int64\n",
    "* EnclosedPorch: Enclosed porch area in square feet                         / int64\n",
    "* 3SsnPorch: Three season porch area in square feet                         / int64\n",
    "* ScreenPorch: Screen porch area in square feet                             / int64\n",
    "* PoolArea: Pool area in square feet                                        / int64\n",
    "* PoolQC: Pool quality                                                      / object\n",
    "* Fence: Fence quality                                                      / object\n",
    "* MiscFeature: Miscellaneous feature not covered in other categories        / object\n",
    "* MiscVal: $Value of miscellaneous feature                                  / int64\n",
    "* MoSold: Month Sold                                                        / int64\n",
    "* YrSold: Year Sold                                                         / int64\n",
    "* SaleType: Type of sale                                                    / object\n",
    "* SaleCondition: Condition of sale                                          / object"
   ]
  },
  {
   "cell_type": "markdown",
   "metadata": {},
   "source": [
    "### Preparation "
   ]
  },
  {
   "cell_type": "markdown",
   "metadata": {},
   "source": [
    "#### Define Metric"
   ]
  },
  {
   "cell_type": "markdown",
   "metadata": {},
   "source": [
    "* define target metric\n",
    "    We use in Regression Models, becuase it  is a problem where we try to predict a continuous dependent variable(SalePrice) \n",
    "    using a set of independent variables. \n",
    "\n",
    "* the prediction error is used to define the model performance : \n",
    "    ---  Residual, MAE(Mean Absolute Error), MSE(Mean Squared Error), RMSE, R2 Score ..\n",
    "\n",
    "* Submissions are evaluated on Root-Mean-Squared-Error (RMSE) between the logarithm of the predicted value and the logarithm of the observed sales price. \n",
    "  (Taking logs means that errors in predicting expensive houses and cheap houses will affect the result equally.)"
   ]
  },
  {
   "cell_type": "markdown",
   "metadata": {},
   "source": [
    "#### Gather Data"
   ]
  },
  {
   "cell_type": "code",
   "execution_count": 141,
   "metadata": {},
   "outputs": [],
   "source": [
    "import pandas as pd\n",
    "import numpy as np\n",
    "df_data_train= pd.read_csv('train.csv' ,index_col='Id')"
   ]
  },
  {
   "cell_type": "markdown",
   "metadata": {},
   "source": [
    "#### Understand data"
   ]
  },
  {
   "cell_type": "code",
   "execution_count": 142,
   "metadata": {},
   "outputs": [
    {
     "data": {
      "text/html": [
       "<div>\n",
       "<style scoped>\n",
       "    .dataframe tbody tr th:only-of-type {\n",
       "        vertical-align: middle;\n",
       "    }\n",
       "\n",
       "    .dataframe tbody tr th {\n",
       "        vertical-align: top;\n",
       "    }\n",
       "\n",
       "    .dataframe thead th {\n",
       "        text-align: right;\n",
       "    }\n",
       "</style>\n",
       "<table border=\"1\" class=\"dataframe\">\n",
       "  <thead>\n",
       "    <tr style=\"text-align: right;\">\n",
       "      <th></th>\n",
       "      <th>MSSubClass</th>\n",
       "      <th>MSZoning</th>\n",
       "      <th>LotFrontage</th>\n",
       "      <th>LotArea</th>\n",
       "      <th>Street</th>\n",
       "      <th>Alley</th>\n",
       "      <th>LotShape</th>\n",
       "      <th>LandContour</th>\n",
       "      <th>Utilities</th>\n",
       "      <th>LotConfig</th>\n",
       "      <th>...</th>\n",
       "      <th>PoolArea</th>\n",
       "      <th>PoolQC</th>\n",
       "      <th>Fence</th>\n",
       "      <th>MiscFeature</th>\n",
       "      <th>MiscVal</th>\n",
       "      <th>MoSold</th>\n",
       "      <th>YrSold</th>\n",
       "      <th>SaleType</th>\n",
       "      <th>SaleCondition</th>\n",
       "      <th>SalePrice</th>\n",
       "    </tr>\n",
       "    <tr>\n",
       "      <th>Id</th>\n",
       "      <th></th>\n",
       "      <th></th>\n",
       "      <th></th>\n",
       "      <th></th>\n",
       "      <th></th>\n",
       "      <th></th>\n",
       "      <th></th>\n",
       "      <th></th>\n",
       "      <th></th>\n",
       "      <th></th>\n",
       "      <th></th>\n",
       "      <th></th>\n",
       "      <th></th>\n",
       "      <th></th>\n",
       "      <th></th>\n",
       "      <th></th>\n",
       "      <th></th>\n",
       "      <th></th>\n",
       "      <th></th>\n",
       "      <th></th>\n",
       "      <th></th>\n",
       "    </tr>\n",
       "  </thead>\n",
       "  <tbody>\n",
       "    <tr>\n",
       "      <th>1</th>\n",
       "      <td>60</td>\n",
       "      <td>RL</td>\n",
       "      <td>65.0</td>\n",
       "      <td>8450</td>\n",
       "      <td>Pave</td>\n",
       "      <td>NaN</td>\n",
       "      <td>Reg</td>\n",
       "      <td>Lvl</td>\n",
       "      <td>AllPub</td>\n",
       "      <td>Inside</td>\n",
       "      <td>...</td>\n",
       "      <td>0</td>\n",
       "      <td>NaN</td>\n",
       "      <td>NaN</td>\n",
       "      <td>NaN</td>\n",
       "      <td>0</td>\n",
       "      <td>2</td>\n",
       "      <td>2008</td>\n",
       "      <td>WD</td>\n",
       "      <td>Normal</td>\n",
       "      <td>208500</td>\n",
       "    </tr>\n",
       "    <tr>\n",
       "      <th>2</th>\n",
       "      <td>20</td>\n",
       "      <td>RL</td>\n",
       "      <td>80.0</td>\n",
       "      <td>9600</td>\n",
       "      <td>Pave</td>\n",
       "      <td>NaN</td>\n",
       "      <td>Reg</td>\n",
       "      <td>Lvl</td>\n",
       "      <td>AllPub</td>\n",
       "      <td>FR2</td>\n",
       "      <td>...</td>\n",
       "      <td>0</td>\n",
       "      <td>NaN</td>\n",
       "      <td>NaN</td>\n",
       "      <td>NaN</td>\n",
       "      <td>0</td>\n",
       "      <td>5</td>\n",
       "      <td>2007</td>\n",
       "      <td>WD</td>\n",
       "      <td>Normal</td>\n",
       "      <td>181500</td>\n",
       "    </tr>\n",
       "    <tr>\n",
       "      <th>3</th>\n",
       "      <td>60</td>\n",
       "      <td>RL</td>\n",
       "      <td>68.0</td>\n",
       "      <td>11250</td>\n",
       "      <td>Pave</td>\n",
       "      <td>NaN</td>\n",
       "      <td>IR1</td>\n",
       "      <td>Lvl</td>\n",
       "      <td>AllPub</td>\n",
       "      <td>Inside</td>\n",
       "      <td>...</td>\n",
       "      <td>0</td>\n",
       "      <td>NaN</td>\n",
       "      <td>NaN</td>\n",
       "      <td>NaN</td>\n",
       "      <td>0</td>\n",
       "      <td>9</td>\n",
       "      <td>2008</td>\n",
       "      <td>WD</td>\n",
       "      <td>Normal</td>\n",
       "      <td>223500</td>\n",
       "    </tr>\n",
       "    <tr>\n",
       "      <th>4</th>\n",
       "      <td>70</td>\n",
       "      <td>RL</td>\n",
       "      <td>60.0</td>\n",
       "      <td>9550</td>\n",
       "      <td>Pave</td>\n",
       "      <td>NaN</td>\n",
       "      <td>IR1</td>\n",
       "      <td>Lvl</td>\n",
       "      <td>AllPub</td>\n",
       "      <td>Corner</td>\n",
       "      <td>...</td>\n",
       "      <td>0</td>\n",
       "      <td>NaN</td>\n",
       "      <td>NaN</td>\n",
       "      <td>NaN</td>\n",
       "      <td>0</td>\n",
       "      <td>2</td>\n",
       "      <td>2006</td>\n",
       "      <td>WD</td>\n",
       "      <td>Abnorml</td>\n",
       "      <td>140000</td>\n",
       "    </tr>\n",
       "    <tr>\n",
       "      <th>5</th>\n",
       "      <td>60</td>\n",
       "      <td>RL</td>\n",
       "      <td>84.0</td>\n",
       "      <td>14260</td>\n",
       "      <td>Pave</td>\n",
       "      <td>NaN</td>\n",
       "      <td>IR1</td>\n",
       "      <td>Lvl</td>\n",
       "      <td>AllPub</td>\n",
       "      <td>FR2</td>\n",
       "      <td>...</td>\n",
       "      <td>0</td>\n",
       "      <td>NaN</td>\n",
       "      <td>NaN</td>\n",
       "      <td>NaN</td>\n",
       "      <td>0</td>\n",
       "      <td>12</td>\n",
       "      <td>2008</td>\n",
       "      <td>WD</td>\n",
       "      <td>Normal</td>\n",
       "      <td>250000</td>\n",
       "    </tr>\n",
       "  </tbody>\n",
       "</table>\n",
       "<p>5 rows × 80 columns</p>\n",
       "</div>"
      ],
      "text/plain": [
       "    MSSubClass MSZoning  LotFrontage  LotArea Street Alley LotShape  \\\n",
       "Id                                                                    \n",
       "1           60       RL         65.0     8450   Pave   NaN      Reg   \n",
       "2           20       RL         80.0     9600   Pave   NaN      Reg   \n",
       "3           60       RL         68.0    11250   Pave   NaN      IR1   \n",
       "4           70       RL         60.0     9550   Pave   NaN      IR1   \n",
       "5           60       RL         84.0    14260   Pave   NaN      IR1   \n",
       "\n",
       "   LandContour Utilities LotConfig  ... PoolArea PoolQC Fence MiscFeature  \\\n",
       "Id                                  ...                                     \n",
       "1          Lvl    AllPub    Inside  ...        0    NaN   NaN         NaN   \n",
       "2          Lvl    AllPub       FR2  ...        0    NaN   NaN         NaN   \n",
       "3          Lvl    AllPub    Inside  ...        0    NaN   NaN         NaN   \n",
       "4          Lvl    AllPub    Corner  ...        0    NaN   NaN         NaN   \n",
       "5          Lvl    AllPub       FR2  ...        0    NaN   NaN         NaN   \n",
       "\n",
       "   MiscVal MoSold  YrSold  SaleType  SaleCondition  SalePrice  \n",
       "Id                                                             \n",
       "1        0      2    2008        WD         Normal     208500  \n",
       "2        0      5    2007        WD         Normal     181500  \n",
       "3        0      9    2008        WD         Normal     223500  \n",
       "4        0      2    2006        WD        Abnorml     140000  \n",
       "5        0     12    2008        WD         Normal     250000  \n",
       "\n",
       "[5 rows x 80 columns]"
      ]
     },
     "execution_count": 142,
     "metadata": {},
     "output_type": "execute_result"
    }
   ],
   "source": [
    "df_data_train.head()"
   ]
  },
  {
   "cell_type": "code",
   "execution_count": 143,
   "metadata": {},
   "outputs": [
    {
     "name": "stdout",
     "output_type": "stream",
     "text": [
      "<class 'pandas.core.frame.DataFrame'>\n",
      "Int64Index: 1460 entries, 1 to 1460\n",
      "Data columns (total 80 columns):\n",
      " #   Column         Non-Null Count  Dtype  \n",
      "---  ------         --------------  -----  \n",
      " 0   MSSubClass     1460 non-null   int64  \n",
      " 1   MSZoning       1460 non-null   object \n",
      " 2   LotFrontage    1201 non-null   float64\n",
      " 3   LotArea        1460 non-null   int64  \n",
      " 4   Street         1460 non-null   object \n",
      " 5   Alley          91 non-null     object \n",
      " 6   LotShape       1460 non-null   object \n",
      " 7   LandContour    1460 non-null   object \n",
      " 8   Utilities      1460 non-null   object \n",
      " 9   LotConfig      1460 non-null   object \n",
      " 10  LandSlope      1460 non-null   object \n",
      " 11  Neighborhood   1460 non-null   object \n",
      " 12  Condition1     1460 non-null   object \n",
      " 13  Condition2     1460 non-null   object \n",
      " 14  BldgType       1460 non-null   object \n",
      " 15  HouseStyle     1460 non-null   object \n",
      " 16  OverallQual    1460 non-null   int64  \n",
      " 17  OverallCond    1460 non-null   int64  \n",
      " 18  YearBuilt      1460 non-null   int64  \n",
      " 19  YearRemodAdd   1460 non-null   int64  \n",
      " 20  RoofStyle      1460 non-null   object \n",
      " 21  RoofMatl       1460 non-null   object \n",
      " 22  Exterior1st    1460 non-null   object \n",
      " 23  Exterior2nd    1460 non-null   object \n",
      " 24  MasVnrType     1452 non-null   object \n",
      " 25  MasVnrArea     1452 non-null   float64\n",
      " 26  ExterQual      1460 non-null   object \n",
      " 27  ExterCond      1460 non-null   object \n",
      " 28  Foundation     1460 non-null   object \n",
      " 29  BsmtQual       1423 non-null   object \n",
      " 30  BsmtCond       1423 non-null   object \n",
      " 31  BsmtExposure   1422 non-null   object \n",
      " 32  BsmtFinType1   1423 non-null   object \n",
      " 33  BsmtFinSF1     1460 non-null   int64  \n",
      " 34  BsmtFinType2   1422 non-null   object \n",
      " 35  BsmtFinSF2     1460 non-null   int64  \n",
      " 36  BsmtUnfSF      1460 non-null   int64  \n",
      " 37  TotalBsmtSF    1460 non-null   int64  \n",
      " 38  Heating        1460 non-null   object \n",
      " 39  HeatingQC      1460 non-null   object \n",
      " 40  CentralAir     1460 non-null   object \n",
      " 41  Electrical     1459 non-null   object \n",
      " 42  1stFlrSF       1460 non-null   int64  \n",
      " 43  2ndFlrSF       1460 non-null   int64  \n",
      " 44  LowQualFinSF   1460 non-null   int64  \n",
      " 45  GrLivArea      1460 non-null   int64  \n",
      " 46  BsmtFullBath   1460 non-null   int64  \n",
      " 47  BsmtHalfBath   1460 non-null   int64  \n",
      " 48  FullBath       1460 non-null   int64  \n",
      " 49  HalfBath       1460 non-null   int64  \n",
      " 50  BedroomAbvGr   1460 non-null   int64  \n",
      " 51  KitchenAbvGr   1460 non-null   int64  \n",
      " 52  KitchenQual    1460 non-null   object \n",
      " 53  TotRmsAbvGrd   1460 non-null   int64  \n",
      " 54  Functional     1460 non-null   object \n",
      " 55  Fireplaces     1460 non-null   int64  \n",
      " 56  FireplaceQu    770 non-null    object \n",
      " 57  GarageType     1379 non-null   object \n",
      " 58  GarageYrBlt    1379 non-null   float64\n",
      " 59  GarageFinish   1379 non-null   object \n",
      " 60  GarageCars     1460 non-null   int64  \n",
      " 61  GarageArea     1460 non-null   int64  \n",
      " 62  GarageQual     1379 non-null   object \n",
      " 63  GarageCond     1379 non-null   object \n",
      " 64  PavedDrive     1460 non-null   object \n",
      " 65  WoodDeckSF     1460 non-null   int64  \n",
      " 66  OpenPorchSF    1460 non-null   int64  \n",
      " 67  EnclosedPorch  1460 non-null   int64  \n",
      " 68  3SsnPorch      1460 non-null   int64  \n",
      " 69  ScreenPorch    1460 non-null   int64  \n",
      " 70  PoolArea       1460 non-null   int64  \n",
      " 71  PoolQC         7 non-null      object \n",
      " 72  Fence          281 non-null    object \n",
      " 73  MiscFeature    54 non-null     object \n",
      " 74  MiscVal        1460 non-null   int64  \n",
      " 75  MoSold         1460 non-null   int64  \n",
      " 76  YrSold         1460 non-null   int64  \n",
      " 77  SaleType       1460 non-null   object \n",
      " 78  SaleCondition  1460 non-null   object \n",
      " 79  SalePrice      1460 non-null   int64  \n",
      "dtypes: float64(3), int64(34), object(43)\n",
      "memory usage: 923.9+ KB\n"
     ]
    }
   ],
   "source": [
    "df_data_train.info()"
   ]
  },
  {
   "cell_type": "code",
   "execution_count": 144,
   "metadata": {},
   "outputs": [],
   "source": [
    "obj_columns = list(df_data_train.select_dtypes(['object']).columns)"
   ]
  },
  {
   "cell_type": "code",
   "execution_count": 145,
   "metadata": {},
   "outputs": [
    {
     "data": {
      "text/plain": [
       "43"
      ]
     },
     "execution_count": 145,
     "metadata": {},
     "output_type": "execute_result"
    }
   ],
   "source": [
    "len(obj_columns)"
   ]
  },
  {
   "cell_type": "code",
   "execution_count": 146,
   "metadata": {},
   "outputs": [
    {
     "name": "stdout",
     "output_type": "stream",
     "text": [
      "MSZoning\n",
      "C (all)      10\n",
      "FV           65\n",
      "RH           16\n",
      "RL         1151\n",
      "RM          218\n",
      "dtype: int64\n",
      "***************\n",
      "Street\n",
      "Grvl       6\n",
      "Pave    1454\n",
      "dtype: int64\n",
      "***************\n",
      "Alley\n",
      "Grvl    50\n",
      "Pave    41\n",
      "dtype: int64\n",
      "***************\n",
      "LotShape\n",
      "IR1    484\n",
      "IR2     41\n",
      "IR3     10\n",
      "Reg    925\n",
      "dtype: int64\n",
      "***************\n",
      "LandContour\n",
      "Bnk      63\n",
      "HLS      50\n",
      "Low      36\n",
      "Lvl    1311\n",
      "dtype: int64\n",
      "***************\n",
      "Utilities\n",
      "AllPub    1459\n",
      "NoSeWa       1\n",
      "dtype: int64\n",
      "***************\n",
      "LotConfig\n",
      "Corner      263\n",
      "CulDSac      94\n",
      "FR2          47\n",
      "FR3           4\n",
      "Inside     1052\n",
      "dtype: int64\n",
      "***************\n",
      "LandSlope\n",
      "Gtl    1382\n",
      "Mod      65\n",
      "Sev      13\n",
      "dtype: int64\n",
      "***************\n",
      "Neighborhood\n",
      "Blmngtn     17\n",
      "Blueste      2\n",
      "BrDale      16\n",
      "BrkSide     58\n",
      "ClearCr     28\n",
      "CollgCr    150\n",
      "Crawfor     51\n",
      "Edwards    100\n",
      "Gilbert     79\n",
      "IDOTRR      37\n",
      "MeadowV     17\n",
      "Mitchel     49\n",
      "NAmes      225\n",
      "NPkVill      9\n",
      "NWAmes      73\n",
      "NoRidge     41\n",
      "NridgHt     77\n",
      "OldTown    113\n",
      "SWISU       25\n",
      "Sawyer      74\n",
      "SawyerW     59\n",
      "Somerst     86\n",
      "StoneBr     25\n",
      "Timber      38\n",
      "Veenker     11\n",
      "dtype: int64\n",
      "***************\n",
      "Condition1\n",
      "Artery      48\n",
      "Feedr       81\n",
      "Norm      1260\n",
      "PosA         8\n",
      "PosN        19\n",
      "RRAe        11\n",
      "RRAn        26\n",
      "RRNe         2\n",
      "RRNn         5\n",
      "dtype: int64\n",
      "***************\n",
      "Condition2\n",
      "Artery       2\n",
      "Feedr        6\n",
      "Norm      1445\n",
      "PosA         1\n",
      "PosN         2\n",
      "RRAe         1\n",
      "RRAn         1\n",
      "RRNn         2\n",
      "dtype: int64\n",
      "***************\n",
      "BldgType\n",
      "1Fam      1220\n",
      "2fmCon      31\n",
      "Duplex      52\n",
      "Twnhs       43\n",
      "TwnhsE     114\n",
      "dtype: int64\n",
      "***************\n",
      "HouseStyle\n",
      "1.5Fin    154\n",
      "1.5Unf     14\n",
      "1Story    726\n",
      "2.5Fin      8\n",
      "2.5Unf     11\n",
      "2Story    445\n",
      "SFoyer     37\n",
      "SLvl       65\n",
      "dtype: int64\n",
      "***************\n",
      "RoofStyle\n",
      "Flat         13\n",
      "Gable      1141\n",
      "Gambrel      11\n",
      "Hip         286\n",
      "Mansard       7\n",
      "Shed          2\n",
      "dtype: int64\n",
      "***************\n",
      "RoofMatl\n",
      "ClyTile       1\n",
      "CompShg    1434\n",
      "Membran       1\n",
      "Metal         1\n",
      "Roll          1\n",
      "Tar&Grv      11\n",
      "WdShake       5\n",
      "WdShngl       6\n",
      "dtype: int64\n",
      "***************\n",
      "Exterior1st\n",
      "AsbShng     20\n",
      "AsphShn      1\n",
      "BrkComm      2\n",
      "BrkFace     50\n",
      "CBlock       1\n",
      "CemntBd     61\n",
      "HdBoard    222\n",
      "ImStucc      1\n",
      "MetalSd    220\n",
      "Plywood    108\n",
      "Stone        2\n",
      "Stucco      25\n",
      "VinylSd    515\n",
      "Wd Sdng    206\n",
      "WdShing     26\n",
      "dtype: int64\n",
      "***************\n",
      "Exterior2nd\n",
      "AsbShng     20\n",
      "AsphShn      3\n",
      "Brk Cmn      7\n",
      "BrkFace     25\n",
      "CBlock       1\n",
      "CmentBd     60\n",
      "HdBoard    207\n",
      "ImStucc     10\n",
      "MetalSd    214\n",
      "Other        1\n",
      "Plywood    142\n",
      "Stone        5\n",
      "Stucco      26\n",
      "VinylSd    504\n",
      "Wd Sdng    197\n",
      "Wd Shng     38\n",
      "dtype: int64\n",
      "***************\n",
      "MasVnrType\n",
      "BrkCmn      15\n",
      "BrkFace    445\n",
      "None       864\n",
      "Stone      128\n",
      "dtype: int64\n",
      "***************\n",
      "ExterQual\n",
      "Ex     52\n",
      "Fa     14\n",
      "Gd    488\n",
      "TA    906\n",
      "dtype: int64\n",
      "***************\n",
      "ExterCond\n",
      "Ex       3\n",
      "Fa      28\n",
      "Gd     146\n",
      "Po       1\n",
      "TA    1282\n",
      "dtype: int64\n",
      "***************\n",
      "Foundation\n",
      "BrkTil    146\n",
      "CBlock    634\n",
      "PConc     647\n",
      "Slab       24\n",
      "Stone       6\n",
      "Wood        3\n",
      "dtype: int64\n",
      "***************\n",
      "BsmtQual\n",
      "Ex    121\n",
      "Fa     35\n",
      "Gd    618\n",
      "TA    649\n",
      "dtype: int64\n",
      "***************\n",
      "BsmtCond\n",
      "Fa      45\n",
      "Gd      65\n",
      "Po       2\n",
      "TA    1311\n",
      "dtype: int64\n",
      "***************\n",
      "BsmtExposure\n",
      "Av    221\n",
      "Gd    134\n",
      "Mn    114\n",
      "No    953\n",
      "dtype: int64\n",
      "***************\n",
      "BsmtFinType1\n",
      "ALQ    220\n",
      "BLQ    148\n",
      "GLQ    418\n",
      "LwQ     74\n",
      "Rec    133\n",
      "Unf    430\n",
      "dtype: int64\n",
      "***************\n",
      "BsmtFinType2\n",
      "ALQ      19\n",
      "BLQ      33\n",
      "GLQ      14\n",
      "LwQ      46\n",
      "Rec      54\n",
      "Unf    1256\n",
      "dtype: int64\n",
      "***************\n",
      "Heating\n",
      "Floor       1\n",
      "GasA     1428\n",
      "GasW       18\n",
      "Grav        7\n",
      "OthW        2\n",
      "Wall        4\n",
      "dtype: int64\n",
      "***************\n",
      "HeatingQC\n",
      "Ex    741\n",
      "Fa     49\n",
      "Gd    241\n",
      "Po      1\n",
      "TA    428\n",
      "dtype: int64\n",
      "***************\n",
      "CentralAir\n",
      "N      95\n",
      "Y    1365\n",
      "dtype: int64\n",
      "***************\n",
      "Electrical\n",
      "FuseA      94\n",
      "FuseF      27\n",
      "FuseP       3\n",
      "Mix         1\n",
      "SBrkr    1334\n",
      "dtype: int64\n",
      "***************\n",
      "KitchenQual\n",
      "Ex    100\n",
      "Fa     39\n",
      "Gd    586\n",
      "TA    735\n",
      "dtype: int64\n",
      "***************\n",
      "Functional\n",
      "Maj1      14\n",
      "Maj2       5\n",
      "Min1      31\n",
      "Min2      34\n",
      "Mod       15\n",
      "Sev        1\n",
      "Typ     1360\n",
      "dtype: int64\n",
      "***************\n",
      "FireplaceQu\n",
      "Ex     24\n",
      "Fa     33\n",
      "Gd    380\n",
      "Po     20\n",
      "TA    313\n",
      "dtype: int64\n",
      "***************\n",
      "GarageType\n",
      "2Types       6\n",
      "Attchd     870\n",
      "Basment     19\n",
      "BuiltIn     88\n",
      "CarPort      9\n",
      "Detchd     387\n",
      "dtype: int64\n",
      "***************\n",
      "GarageFinish\n",
      "Fin    352\n",
      "RFn    422\n",
      "Unf    605\n",
      "dtype: int64\n",
      "***************\n",
      "GarageQual\n",
      "Ex       3\n",
      "Fa      48\n",
      "Gd      14\n",
      "Po       3\n",
      "TA    1311\n",
      "dtype: int64\n",
      "***************\n",
      "GarageCond\n",
      "Ex       2\n",
      "Fa      35\n",
      "Gd       9\n",
      "Po       7\n",
      "TA    1326\n",
      "dtype: int64\n",
      "***************\n",
      "PavedDrive\n",
      "N      90\n",
      "P      30\n",
      "Y    1340\n",
      "dtype: int64\n",
      "***************\n",
      "PoolQC\n",
      "Ex    2\n",
      "Fa    2\n",
      "Gd    3\n",
      "dtype: int64\n",
      "***************\n",
      "Fence\n",
      "GdPrv     59\n",
      "GdWo      54\n",
      "MnPrv    157\n",
      "MnWw      11\n",
      "dtype: int64\n",
      "***************\n",
      "MiscFeature\n",
      "Gar2     2\n",
      "Othr     2\n",
      "Shed    49\n",
      "TenC     1\n",
      "dtype: int64\n",
      "***************\n",
      "SaleType\n",
      "COD        43\n",
      "CWD         4\n",
      "Con         2\n",
      "ConLD       9\n",
      "ConLI       5\n",
      "ConLw       5\n",
      "New       122\n",
      "Oth         3\n",
      "WD       1267\n",
      "dtype: int64\n",
      "***************\n",
      "SaleCondition\n",
      "Abnorml     101\n",
      "AdjLand       4\n",
      "Alloca       12\n",
      "Family       20\n",
      "Normal     1198\n",
      "Partial     125\n",
      "dtype: int64\n",
      "***************\n"
     ]
    }
   ],
   "source": [
    "# count rows in each element of grouped column (dtype : Object)\n",
    "for obj_clm in obj_columns :\n",
    "    print(df_data_train.groupby(obj_clm).size())\n",
    "    print(\"***\"*5)"
   ]
  },
  {
   "cell_type": "markdown",
   "metadata": {},
   "source": [
    "##### Missing Value Check"
   ]
  },
  {
   "cell_type": "code",
   "execution_count": 147,
   "metadata": {},
   "outputs": [],
   "source": [
    "# number of null for each column \n",
    "columns_list = df_data_train.columns"
   ]
  },
  {
   "cell_type": "code",
   "execution_count": 148,
   "metadata": {},
   "outputs": [],
   "source": [
    "column_na = [column for column in columns_list  if df_data_train[column].isna().sum() !=0 ]"
   ]
  },
  {
   "cell_type": "code",
   "execution_count": 149,
   "metadata": {},
   "outputs": [
    {
     "name": "stdout",
     "output_type": "stream",
     "text": [
      "na count :LotFrontage\n",
      "259\n",
      "***************\n",
      "na count :Alley\n",
      "1369\n",
      "***************\n",
      "na count :MasVnrType\n",
      "8\n",
      "***************\n",
      "na count :MasVnrArea\n",
      "8\n",
      "***************\n",
      "na count :BsmtQual\n",
      "37\n",
      "***************\n",
      "na count :BsmtCond\n",
      "37\n",
      "***************\n",
      "na count :BsmtExposure\n",
      "38\n",
      "***************\n",
      "na count :BsmtFinType1\n",
      "37\n",
      "***************\n",
      "na count :BsmtFinType2\n",
      "38\n",
      "***************\n",
      "na count :Electrical\n",
      "1\n",
      "***************\n",
      "na count :FireplaceQu\n",
      "690\n",
      "***************\n",
      "na count :GarageType\n",
      "81\n",
      "***************\n",
      "na count :GarageYrBlt\n",
      "81\n",
      "***************\n",
      "na count :GarageFinish\n",
      "81\n",
      "***************\n",
      "na count :GarageQual\n",
      "81\n",
      "***************\n",
      "na count :GarageCond\n",
      "81\n",
      "***************\n",
      "na count :PoolQC\n",
      "1453\n",
      "***************\n",
      "na count :Fence\n",
      "1179\n",
      "***************\n",
      "na count :MiscFeature\n",
      "1406\n",
      "***************\n"
     ]
    }
   ],
   "source": [
    "for clm_na in column_na:\n",
    "    print (\"na count :\" + clm_na)\n",
    "    print (df_data_train[clm_na].isna().sum())\n",
    "    print(\"***\"*5)"
   ]
  },
  {
   "cell_type": "code",
   "execution_count": 150,
   "metadata": {},
   "outputs": [
    {
     "name": "stderr",
     "output_type": "stream",
     "text": [
      "C:\\Users\\DeBak\\anaconda3\\lib\\site-packages\\plotly\\offline\\offline.py:562: UserWarning:\n",
      "\n",
      "Your filename `basic-scatter` didn't end with .html. Adding .html to the end of your file.\n",
      "\n"
     ]
    },
    {
     "data": {
      "text/plain": [
       "'basic-scatter.html'"
      ]
     },
     "execution_count": 150,
     "metadata": {},
     "output_type": "execute_result"
    }
   ],
   "source": [
    "\n",
    "import plotly\n",
    "from plotly.graph_objs import Scatter, Layout\n",
    "import plotly.graph_objs as go\n",
    "\n",
    "# Create a trace\n",
    "trace = go.Scatter(\n",
    "    x = df_data_train['LotFrontage'],\n",
    "    y = df_data_train['LotArea'],\n",
    "    mode = 'markers'\n",
    ")\n",
    "data = [trace]\n",
    "\n",
    "plotly.offline.plot(data, filename='basic-scatter')"
   ]
  },
  {
   "cell_type": "markdown",
   "metadata": {},
   "source": [
    "##### Missing Value Handling : LotFrontage"
   ]
  },
  {
   "cell_type": "code",
   "execution_count": 151,
   "metadata": {},
   "outputs": [
    {
     "name": "stdout",
     "output_type": "stream",
     "text": [
      "Sum of the number of outliers detected : 88\n"
     ]
    }
   ],
   "source": [
    " # import median absolute deviation (mad) from statsmodels and visualize data\n",
    "from statsmodels.robust import mad\n",
    "#import modules for outlier detection\n",
    "from sklearn.linear_model import RANSACRegressor\n",
    "\n",
    "df_train_LotFrontage_outlier =  df_data_train.loc[:,['LotFrontage','LotArea']].dropna(axis=0)\n",
    "\n",
    "#  find outliers using RANSAC   \n",
    "mrap = mad(df_train_LotFrontage_outlier['LotArea']) * 3\n",
    "\n",
    "model_outlier = RANSACRegressor(residual_threshold=mrap, random_state=0)\n",
    "model_outlier.fit(X=df_train_LotFrontage_outlier.loc[:,['LotFrontage']], y=df_train_LotFrontage_outlier.loc[:,'LotArea'])\n",
    "\n",
    "print('Sum of the number of outliers detected :' , (~model_outlier.inlier_mask_).sum())\n",
    "\n",
    "df_train_LotFrontage_after_outlier =  df_train_LotFrontage_outlier.loc[model_outlier.inlier_mask_,['LotFrontage','LotArea']]"
   ]
  },
  {
   "cell_type": "code",
   "execution_count": 152,
   "metadata": {},
   "outputs": [
    {
     "data": {
      "text/html": [
       "<div>\n",
       "<style scoped>\n",
       "    .dataframe tbody tr th:only-of-type {\n",
       "        vertical-align: middle;\n",
       "    }\n",
       "\n",
       "    .dataframe tbody tr th {\n",
       "        vertical-align: top;\n",
       "    }\n",
       "\n",
       "    .dataframe thead th {\n",
       "        text-align: right;\n",
       "    }\n",
       "</style>\n",
       "<table border=\"1\" class=\"dataframe\">\n",
       "  <thead>\n",
       "    <tr style=\"text-align: right;\">\n",
       "      <th></th>\n",
       "      <th>LotFrontage</th>\n",
       "      <th>LotArea</th>\n",
       "    </tr>\n",
       "  </thead>\n",
       "  <tbody>\n",
       "    <tr>\n",
       "      <th>count</th>\n",
       "      <td>1113.000000</td>\n",
       "      <td>1113.000000</td>\n",
       "    </tr>\n",
       "    <tr>\n",
       "      <th>mean</th>\n",
       "      <td>68.383648</td>\n",
       "      <td>9084.177898</td>\n",
       "    </tr>\n",
       "    <tr>\n",
       "      <th>std</th>\n",
       "      <td>19.372837</td>\n",
       "      <td>3314.832969</td>\n",
       "    </tr>\n",
       "    <tr>\n",
       "      <th>min</th>\n",
       "      <td>21.000000</td>\n",
       "      <td>1300.000000</td>\n",
       "    </tr>\n",
       "    <tr>\n",
       "      <th>25%</th>\n",
       "      <td>60.000000</td>\n",
       "      <td>7200.000000</td>\n",
       "    </tr>\n",
       "    <tr>\n",
       "      <th>50%</th>\n",
       "      <td>69.000000</td>\n",
       "      <td>9084.000000</td>\n",
       "    </tr>\n",
       "    <tr>\n",
       "      <th>75%</th>\n",
       "      <td>80.000000</td>\n",
       "      <td>10800.000000</td>\n",
       "    </tr>\n",
       "    <tr>\n",
       "      <th>max</th>\n",
       "      <td>144.000000</td>\n",
       "      <td>31770.000000</td>\n",
       "    </tr>\n",
       "  </tbody>\n",
       "</table>\n",
       "</div>"
      ],
      "text/plain": [
       "       LotFrontage       LotArea\n",
       "count  1113.000000   1113.000000\n",
       "mean     68.383648   9084.177898\n",
       "std      19.372837   3314.832969\n",
       "min      21.000000   1300.000000\n",
       "25%      60.000000   7200.000000\n",
       "50%      69.000000   9084.000000\n",
       "75%      80.000000  10800.000000\n",
       "max     144.000000  31770.000000"
      ]
     },
     "execution_count": 152,
     "metadata": {},
     "output_type": "execute_result"
    }
   ],
   "source": [
    "df_train_LotFrontage_after_outlier.describe()"
   ]
  },
  {
   "cell_type": "code",
   "execution_count": 153,
   "metadata": {},
   "outputs": [
    {
     "name": "stderr",
     "output_type": "stream",
     "text": [
      "C:\\Users\\DeBak\\anaconda3\\lib\\site-packages\\plotly\\offline\\offline.py:562: UserWarning:\n",
      "\n",
      "Your filename `basic-scatter` didn't end with .html. Adding .html to the end of your file.\n",
      "\n"
     ]
    },
    {
     "data": {
      "text/plain": [
       "'basic-scatter.html'"
      ]
     },
     "execution_count": 153,
     "metadata": {},
     "output_type": "execute_result"
    }
   ],
   "source": [
    "# scatter chart \n",
    "#  Create a trace with plotly\n",
    "trace = go.Scatter(\n",
    "    x = df_train_LotFrontage_after_outlier['LotFrontage'],\n",
    "    y = df_train_LotFrontage_after_outlier['LotArea'],\n",
    "    mode = 'markers'\n",
    ")\n",
    "data = [trace]\n",
    "\n",
    "plotly.offline.plot(data, filename='basic-scatter')"
   ]
  },
  {
   "cell_type": "code",
   "execution_count": 154,
   "metadata": {},
   "outputs": [
    {
     "data": {
      "image/png": "[encoded data removed]",
      "text/plain": [
       "<Figure size 864x432 with 1 Axes>"
      ]
     },
     "metadata": {
      "needs_background": "light"
     },
     "output_type": "display_data"
    },
    {
     "name": "stdout",
     "output_type": "stream",
     "text": [
      "slop : 0.004717061362388863 \n",
      "intercept: 25.533023229028316\n",
      "LotFrontage= fx(LotArea  = 5000) : 25.816046910771647\n"
     ]
    }
   ],
   "source": [
    "import numpy as np\n",
    "from matplotlib import pyplot as plt\n",
    "import seaborn as sns\n",
    "from statsmodels.formula.api import ols\n",
    " \n",
    "# Regression chart with pyplot and seaborn\n",
    "plt.rcParams[\"figure.figsize\"] = (12, 6)\n",
    "sns.regplot(x= 'LotArea' , y= 'LotFrontage', data=df_train_LotFrontage_after_outlier)\n",
    "plt.xlim(df_train_LotFrontage_after_outlier['LotArea'].min()-500, df_train_LotFrontage_after_outlier['LotArea'].max()+500)\n",
    "plt.grid()\n",
    "plt.show()\n",
    "\n",
    "# slope and intercept\n",
    "slope_intercept=np.polyfit(df_train_LotFrontage_after_outlier['LotArea'], df_train_LotFrontage_after_outlier['LotFrontage'], 1) \n",
    "fx=np.poly1d(slope_intercept) # f(x):  ax + b\n",
    "print('slop :', slope_intercept[0],  '\\nintercept:', slope_intercept[1])\n",
    "print('LotFrontage= fx(LotArea  = 5000) :',  fx(60))"
   ]
  },
  {
   "cell_type": "code",
   "execution_count": 155,
   "metadata": {},
   "outputs": [],
   "source": [
    "mask_LotFrantage_na = df_data_train['LotFrontage'].isna()\n",
    "fx_LotFrontage = fx(df_data_train.loc[mask_LotFrantage_na, 'LotArea'])"
   ]
  },
  {
   "cell_type": "code",
   "execution_count": 156,
   "metadata": {},
   "outputs": [],
   "source": [
    "df_data_train.loc[mask_LotFrantage_na, 'LotFrontage'] = fx_LotFrontage"
   ]
  },
  {
   "cell_type": "code",
   "execution_count": 157,
   "metadata": {},
   "outputs": [
    {
     "data": {
      "text/plain": [
       "0"
      ]
     },
     "execution_count": 157,
     "metadata": {},
     "output_type": "execute_result"
    }
   ],
   "source": [
    "df_data_train['LotFrontage'].isna().sum()"
   ]
  },
  {
   "cell_type": "code",
   "execution_count": 158,
   "metadata": {},
   "outputs": [
    {
     "data": {
      "image/png": "[encoded data removed]",
      "text/plain": [
       "<Figure size 864x432 with 1 Axes>"
      ]
     },
     "metadata": {
      "needs_background": "light"
     },
     "output_type": "display_data"
    }
   ],
   "source": [
    "# Regression chart with pyplot and seaborn   for new df_data_train after na in LotFronatage\n",
    "plt.rcParams[\"figure.figsize\"] = (12, 6)\n",
    "sns.regplot(x= 'LotFrontage' , y= 'LotArea', data=df_data_train)\n",
    "plt.xlim(df_data_train['LotFrontage'].min()-10, df_data_train['LotFrontage'].max()+10)\n",
    "plt.grid()\n",
    "plt.show()"
   ]
  },
  {
   "cell_type": "markdown",
   "metadata": {},
   "source": [
    "##### Missing Value Handling : Alley"
   ]
  },
  {
   "cell_type": "code",
   "execution_count": 159,
   "metadata": {},
   "outputs": [
    {
     "data": {
      "text/plain": [
       "Street  Alley\n",
       "Pave    Grvl     50\n",
       "        Pave     41\n",
       "dtype: int64"
      ]
     },
     "execution_count": 159,
     "metadata": {},
     "output_type": "execute_result"
    }
   ],
   "source": [
    "#  compare with Street and Alley \n",
    "df_data_train.groupby(['Street', 'Alley']).size()   # All known values of Alley correspond with Pave in Street."
   ]
  },
  {
   "cell_type": "code",
   "execution_count": 160,
   "metadata": {},
   "outputs": [],
   "source": [
    "# 1369 Count of NA by Alley: we set it to \"none\" because it appears that there is no access to an Alley\n",
    "df_data_train['Alley'].fillna(value='none', inplace=True)\n"
   ]
  },
  {
   "cell_type": "code",
   "execution_count": 161,
   "metadata": {},
   "outputs": [
    {
     "data": {
      "text/plain": [
       "0"
      ]
     },
     "execution_count": 161,
     "metadata": {},
     "output_type": "execute_result"
    }
   ],
   "source": [
    "df_data_train['Alley'].isna().sum()"
   ]
  },
  {
   "cell_type": "code",
   "execution_count": 162,
   "metadata": {},
   "outputs": [],
   "source": [
    "# I checked the following contents in the data_description.txt file.   \n",
    "#       NA \tNo alley access\n",
    "# confirmed the same content in follwing columns  >  data tye : object\n",
    "#  -  ['BsmtQual' , 'BsmtCond' , 'BsmtExposure' , 'BsmtFinType1' , 'BsmtFinType2' , 'FireplaceQu', 'GarageType', 'GarageFinish', 'GarageQual', 'GarageCond', 'PoolQC', 'Fence', 'MiscFeature']"
   ]
  },
  {
   "cell_type": "markdown",
   "metadata": {},
   "source": [
    "##### Missing Value Handling : na_columns_list"
   ]
  },
  {
   "cell_type": "code",
   "execution_count": 163,
   "metadata": {},
   "outputs": [],
   "source": [
    "na_columns_list =['BsmtQual' , 'BsmtCond' , 'BsmtExposure' , 'BsmtFinType1' , 'BsmtFinType2' , 'FireplaceQu', 'GarageType', 'GarageFinish', 'GarageQual', 'GarageCond', 'PoolQC', 'Fence', 'MiscFeature']\n",
    "\n",
    "# fillna('none')  all columns in na_columns_list\n",
    "df_data_train[na_columns_list] = df_data_train[na_columns_list].fillna(value='none')"
   ]
  },
  {
   "cell_type": "code",
   "execution_count": 164,
   "metadata": {},
   "outputs": [
    {
     "data": {
      "text/plain": [
       "BsmtQual        0\n",
       "BsmtCond        0\n",
       "BsmtExposure    0\n",
       "BsmtFinType1    0\n",
       "BsmtFinType2    0\n",
       "FireplaceQu     0\n",
       "GarageType      0\n",
       "GarageFinish    0\n",
       "GarageQual      0\n",
       "GarageCond      0\n",
       "PoolQC          0\n",
       "Fence           0\n",
       "MiscFeature     0\n",
       "dtype: int64"
      ]
     },
     "execution_count": 164,
     "metadata": {},
     "output_type": "execute_result"
    }
   ],
   "source": [
    "df_data_train[na_columns_list].isna().sum()"
   ]
  },
  {
   "cell_type": "markdown",
   "metadata": {},
   "source": [
    "##### Missing Value Handling : GarageYrBlt "
   ]
  },
  {
   "cell_type": "code",
   "execution_count": 165,
   "metadata": {},
   "outputs": [],
   "source": [
    "#  GarageYrBlt :  data type is float64   \n",
    "#  fillna(0.0)\n",
    "df_data_train['GarageYrBlt'].fillna(value=0 , inplace=True)"
   ]
  },
  {
   "cell_type": "markdown",
   "metadata": {},
   "source": [
    "##### Missing Value Handling : Electrical "
   ]
  },
  {
   "cell_type": "code",
   "execution_count": 166,
   "metadata": {},
   "outputs": [
    {
     "data": {
      "text/plain": [
       "Id\n",
       "1380    2006\n",
       "Name: YearBuilt, dtype: int64"
      ]
     },
     "execution_count": 166,
     "metadata": {},
     "output_type": "execute_result"
    }
   ],
   "source": [
    "# Yearbult for NaN row from Electrical \n",
    "mamask_Electrical_na=  df_data_train['Electrical'].isna()\n",
    "df_data_train.loc[mamask_Electrical_na, 'YearBuilt']"
   ]
  },
  {
   "cell_type": "code",
   "execution_count": 167,
   "metadata": {},
   "outputs": [],
   "source": [
    "pd.set_option('display.max_rows', 50)"
   ]
  },
  {
   "cell_type": "code",
   "execution_count": 168,
   "metadata": {},
   "outputs": [
    {
     "data": {
      "text/plain": [
       "Electrical  YearBuilt\n",
       "FuseA       1880          1\n",
       "            1898          1\n",
       "            1900          3\n",
       "            1910          2\n",
       "            1911          1\n",
       "                         ..\n",
       "SBrkr       2006         66\n",
       "            2007         49\n",
       "            2008         23\n",
       "            2009         18\n",
       "            2010          1\n",
       "Length: 174, dtype: int64"
      ]
     },
     "execution_count": 168,
     "metadata": {},
     "output_type": "execute_result"
    }
   ],
   "source": [
    "#  compare with Electrical and YearRemodAdd \n",
    "df_data_train.groupby(['Electrical', 'YearBuilt']).size()\n",
    "# after 1965 YearBuilt all Electrical Type is SBrkr     "
   ]
  },
  {
   "cell_type": "code",
   "execution_count": 169,
   "metadata": {},
   "outputs": [],
   "source": [
    "#  fillna('SBrkr')  for Electrical\n",
    "df_data_train['Electrical'].fillna(value='SBrkr' , inplace=True)"
   ]
  },
  {
   "cell_type": "markdown",
   "metadata": {},
   "source": [
    "##### Missing Value Handling : MasVnrType and MasVnrArea"
   ]
  },
  {
   "cell_type": "code",
   "execution_count": 170,
   "metadata": {},
   "outputs": [
    {
     "data": {
      "text/plain": [
       "Id\n",
       "235    NaN\n",
       "530    NaN\n",
       "651    NaN\n",
       "937    NaN\n",
       "974    NaN\n",
       "978    NaN\n",
       "1244   NaN\n",
       "1279   NaN\n",
       "Name: MasVnrArea, dtype: float64"
      ]
     },
     "execution_count": 170,
     "metadata": {},
     "output_type": "execute_result"
    }
   ],
   "source": [
    "#  compare with MasVnrType and MasVnrArea \n",
    "mask_MasVnrType_na = df_data_train['MasVnrType'].isna()\n",
    "df_data_train.loc[mask_MasVnrType_na, 'MasVnrArea']   \n",
    "\n",
    "#The same 8 rows for both columns are NaN values."
   ]
  },
  {
   "cell_type": "code",
   "execution_count": 171,
   "metadata": {},
   "outputs": [
    {
     "data": {
      "text/plain": [
       "'\\n\"None\" category exists by MasVnrType\\n***************\\nMasVnrType\\nBrkCmn      15\\nBrkFace    445\\nNone       864\\nStone      128\\ndtype: int64\\n\\n'"
      ]
     },
     "execution_count": 171,
     "metadata": {},
     "output_type": "execute_result"
    }
   ],
   "source": [
    "\"\"\"\n",
    "\"None\" category exists by MasVnrType\n",
    "***************\n",
    "MasVnrType\n",
    "BrkCmn      15\n",
    "BrkFace    445\n",
    "None       864\n",
    "Stone      128\n",
    "dtype: int64\n",
    "\n",
    "\"\"\""
   ]
  },
  {
   "cell_type": "code",
   "execution_count": 172,
   "metadata": {},
   "outputs": [
    {
     "data": {
      "text/plain": [
       "MasVnrArea  MasVnrType\n",
       "0.0         BrkFace         1\n",
       "            None          859\n",
       "            Stone           1\n",
       "1.0         None            2\n",
       "11.0        BrkFace         1\n",
       "                         ... \n",
       "1115.0      BrkFace         1\n",
       "1129.0      BrkFace         1\n",
       "1170.0      BrkFace         1\n",
       "1378.0      BrkFace         1\n",
       "1600.0      BrkFace         1\n",
       "Length: 401, dtype: int64"
      ]
     },
     "execution_count": 172,
     "metadata": {},
     "output_type": "execute_result"
    }
   ],
   "source": [
    "df_data_train.groupby(['MasVnrArea', 'MasVnrType']).size()"
   ]
  },
  {
   "cell_type": "code",
   "execution_count": 173,
   "metadata": {},
   "outputs": [],
   "source": [
    "# 8 Count of NA by MasVnrType: we set it to \"none\" \n",
    "# 8 Count of NA by MasVnrArea  : we set it to \"0\" \n",
    "df_data_train['MasVnrType'].fillna(value='None', inplace=True)\n",
    "df_data_train['MasVnrArea'].fillna(value=0, inplace=True)"
   ]
  },
  {
   "cell_type": "code",
   "execution_count": 174,
   "metadata": {},
   "outputs": [
    {
     "data": {
      "text/plain": [
       "0"
      ]
     },
     "metadata": {},
     "output_type": "display_data"
    },
    {
     "data": {
      "text/plain": [
       "0"
      ]
     },
     "metadata": {},
     "output_type": "display_data"
    },
    {
     "data": {
      "text/plain": [
       "0"
      ]
     },
     "metadata": {},
     "output_type": "display_data"
    }
   ],
   "source": [
    "display(df_data_train['MasVnrType'].isna().sum())\n",
    "display(df_data_train['MasVnrArea'].isna().sum())\n",
    "display(df_data_train.isna().sum().sum())  "
   ]
  },
  {
   "cell_type": "markdown",
   "metadata": {},
   "source": [
    "!!  all missing value filled"
   ]
  }
 ],
 "metadata": {
  "interpreter": {
   "hash": "36e1c6b53f6ec9a8dd1f4d65b1227698d5d63905752af3c47c358dbc56d56b73"
  },
  "kernelspec": {
   "display_name": "Python 3.8.8 ('base')",
   "language": "python",
   "name": "python3"
  },
  "language_info": {
   "codemirror_mode": {
    "name": "ipython",
    "version": 3
   },
   "file_extension": ".py",
   "mimetype": "text/x-python",
   "name": "python",
   "nbconvert_exporter": "python",
   "pygments_lexer": "ipython3",
   "version": "3.8.8"
  },
  "orig_nbformat": 4
 },
 "nbformat": 4,
 "nbformat_minor": 2
}
